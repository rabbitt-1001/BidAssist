{
 "cells": [
  {
   "cell_type": "code",
   "execution_count": 7,
   "id": "ac58390e-b899-4d99-b38a-10c16f184830",
   "metadata": {},
   "outputs": [
    {
     "name": "stdout",
     "output_type": "stream",
     "text": [
      "Requirement already satisfied: beautifulsoup4 in c:\\users\\dell\\appdata\\local\\programs\\python\\python312\\lib\\site-packages (4.12.3)\n",
      "Requirement already satisfied: requests in c:\\users\\dell\\appdata\\local\\programs\\python\\python312\\lib\\site-packages (2.32.3)\n",
      "Requirement already satisfied: soupsieve>1.2 in c:\\users\\dell\\appdata\\local\\programs\\python\\python312\\lib\\site-packages (from beautifulsoup4) (2.5)\n",
      "Requirement already satisfied: charset-normalizer<4,>=2 in c:\\users\\dell\\appdata\\local\\programs\\python\\python312\\lib\\site-packages (from requests) (3.3.2)\n",
      "Requirement already satisfied: idna<4,>=2.5 in c:\\users\\dell\\appdata\\local\\programs\\python\\python312\\lib\\site-packages (from requests) (3.7)\n",
      "Requirement already satisfied: urllib3<3,>=1.21.1 in c:\\users\\dell\\appdata\\local\\programs\\python\\python312\\lib\\site-packages (from requests) (2.2.1)\n",
      "Requirement already satisfied: certifi>=2017.4.17 in c:\\users\\dell\\appdata\\local\\programs\\python\\python312\\lib\\site-packages (from requests) (2024.2.2)\n"
     ]
    },
    {
     "name": "stderr",
     "output_type": "stream",
     "text": [
      "\n",
      "[notice] A new release of pip is available: 24.0 -> 24.2\n",
      "[notice] To update, run: python.exe -m pip install --upgrade pip\n"
     ]
    }
   ],
   "source": [
    "!pip install beautifulsoup4 requests"
   ]
  },
  {
   "cell_type": "code",
   "execution_count": null,
   "id": "61493290-aee7-4b0f-a16a-3c4ee48e4747",
   "metadata": {},
   "outputs": [
    {
     "name": "stdout",
     "output_type": "stream",
     "text": [
      "Fetching tenders from: https://bidassist.com/all-tenders/active?utm_source=Google&utm_medium=cpc&utm_campaign=15355181231&utm_term=bidassist%20login&utm_content=Search&gad_source=1&gclid=CjwKCAjw4_K0BhBsEiwAfVVZ_wRLjXvEp74X0NCGn2Ndtx6AjP3CYPczP1YeiQ0cvXjNrvbGipe2uBoCMrcQAvD_BwE&filter=LOCATION_STRING:Madhya%20Pradesh%7CUttar%20Pradesh%7CBihar&filter=VALUE:150000000%7C&filter=CATEGORY:Civil%20And%20Construction&sort=RELEVANCE:DESC&pageNumber=0&pageSize=10&tenderType=ACTIVE&tenderEntity=TENDER&year=2024&removeUnavailableTenderAmountCards=false&removeUnavailableEmdCards=false\n",
      "Fetching tenders from: https://bidassist.com/all-tenders/active/tender-page-2?utm_source=Google&utm_medium=cpc&utm_campaign=15355181231&utm_term=bidassist%20login&utm_content=Search&gad_source=1&gclid=CjwKCAjw4_K0BhBsEiwAfVVZ_wRLjXvEp74X0NCGn2Ndtx6AjP3CYPczP1YeiQ0cvXjNrvbGipe2uBoCMrcQAvD_BwE&filter=LOCATION_STRING:Madhya%20Pradesh%7CUttar%20Pradesh%7CBihar&filter=VALUE:150000000%7C&filter=CATEGORY:Civil%20And%20Construction&sort=RELEVANCE:DESC&pageNumber=0&pageSize=10&tenderType=ACTIVE&tenderEntity=TENDER&year=2024&removeUnavailableTenderAmountCards=false&removeUnavailableEmdCards=false&\n",
      "Fetching tenders from: https://bidassist.com/all-tenders/active/tender-page-3?utm_source=Google&utm_medium=cpc&utm_campaign=15355181231&utm_term=bidassist%20login&utm_content=Search&gad_source=1&gclid=CjwKCAjw4_K0BhBsEiwAfVVZ_wRLjXvEp74X0NCGn2Ndtx6AjP3CYPczP1YeiQ0cvXjNrvbGipe2uBoCMrcQAvD_BwE&filter=LOCATION_STRING:Madhya%20Pradesh%7CUttar%20Pradesh%7CBihar&filter=VALUE:150000000%7C&filter=CATEGORY:Civil%20And%20Construction&sort=RELEVANCE:DESC&pageNumber=0&pageSize=10&tenderType=ACTIVE&tenderEntity=TENDER&year=2024&removeUnavailableTenderAmountCards=false&removeUnavailableEmdCards=false&&\n",
      "Fetching tenders from: https://bidassist.com/all-tenders/active/tender-page-4?utm_source=Google&utm_medium=cpc&utm_campaign=15355181231&utm_term=bidassist%20login&utm_content=Search&gad_source=1&gclid=CjwKCAjw4_K0BhBsEiwAfVVZ_wRLjXvEp74X0NCGn2Ndtx6AjP3CYPczP1YeiQ0cvXjNrvbGipe2uBoCMrcQAvD_BwE&filter=LOCATION_STRING:Madhya%20Pradesh%7CUttar%20Pradesh%7CBihar&filter=VALUE:150000000%7C&filter=CATEGORY:Civil%20And%20Construction&sort=RELEVANCE:DESC&pageNumber=0&pageSize=10&tenderType=ACTIVE&tenderEntity=TENDER&year=2024&removeUnavailableTenderAmountCards=false&removeUnavailableEmdCards=false&&&\n",
      "Fetching tenders from: https://bidassist.com/all-tenders/active/tender-page-5?utm_source=Google&utm_medium=cpc&utm_campaign=15355181231&utm_term=bidassist%20login&utm_content=Search&gad_source=1&gclid=CjwKCAjw4_K0BhBsEiwAfVVZ_wRLjXvEp74X0NCGn2Ndtx6AjP3CYPczP1YeiQ0cvXjNrvbGipe2uBoCMrcQAvD_BwE&filter=LOCATION_STRING:Madhya%20Pradesh%7CUttar%20Pradesh%7CBihar&filter=VALUE:150000000%7C&filter=CATEGORY:Civil%20And%20Construction&sort=RELEVANCE:DESC&pageNumber=0&pageSize=10&tenderType=ACTIVE&tenderEntity=TENDER&year=2024&removeUnavailableTenderAmountCards=false&removeUnavailableEmdCards=false&&&&\n",
      "Fetching tenders from: https://bidassist.com/all-tenders/active/tender-page-6?utm_source=Google&utm_medium=cpc&utm_campaign=15355181231&utm_term=bidassist%20login&utm_content=Search&gad_source=1&gclid=CjwKCAjw4_K0BhBsEiwAfVVZ_wRLjXvEp74X0NCGn2Ndtx6AjP3CYPczP1YeiQ0cvXjNrvbGipe2uBoCMrcQAvD_BwE&filter=LOCATION_STRING:Madhya%20Pradesh%7CUttar%20Pradesh%7CBihar&filter=VALUE:150000000%7C&filter=CATEGORY:Civil%20And%20Construction&sort=RELEVANCE:DESC&pageNumber=0&pageSize=10&tenderType=ACTIVE&tenderEntity=TENDER&year=2024&removeUnavailableTenderAmountCards=false&removeUnavailableEmdCards=false&&&&&\n",
      "Fetching tenders from: https://bidassist.com/all-tenders/active/tender-page-7?utm_source=Google&utm_medium=cpc&utm_campaign=15355181231&utm_term=bidassist%20login&utm_content=Search&gad_source=1&gclid=CjwKCAjw4_K0BhBsEiwAfVVZ_wRLjXvEp74X0NCGn2Ndtx6AjP3CYPczP1YeiQ0cvXjNrvbGipe2uBoCMrcQAvD_BwE&filter=LOCATION_STRING:Madhya%20Pradesh%7CUttar%20Pradesh%7CBihar&filter=VALUE:150000000%7C&filter=CATEGORY:Civil%20And%20Construction&sort=RELEVANCE:DESC&pageNumber=0&pageSize=10&tenderType=ACTIVE&tenderEntity=TENDER&year=2024&removeUnavailableTenderAmountCards=false&removeUnavailableEmdCards=false&&&&&&\n",
      "Fetching tenders from: https://bidassist.com/all-tenders/active/tender-page-8?utm_source=Google&utm_medium=cpc&utm_campaign=15355181231&utm_term=bidassist%20login&utm_content=Search&gad_source=1&gclid=CjwKCAjw4_K0BhBsEiwAfVVZ_wRLjXvEp74X0NCGn2Ndtx6AjP3CYPczP1YeiQ0cvXjNrvbGipe2uBoCMrcQAvD_BwE&filter=LOCATION_STRING:Madhya%20Pradesh%7CUttar%20Pradesh%7CBihar&filter=VALUE:150000000%7C&filter=CATEGORY:Civil%20And%20Construction&sort=RELEVANCE:DESC&pageNumber=0&pageSize=10&tenderType=ACTIVE&tenderEntity=TENDER&year=2024&removeUnavailableTenderAmountCards=false&removeUnavailableEmdCards=false&&&&&&&\n",
      "Fetching tenders from: https://bidassist.com/all-tenders/active/tender-page-9?utm_source=Google&utm_medium=cpc&utm_campaign=15355181231&utm_term=bidassist%20login&utm_content=Search&gad_source=1&gclid=CjwKCAjw4_K0BhBsEiwAfVVZ_wRLjXvEp74X0NCGn2Ndtx6AjP3CYPczP1YeiQ0cvXjNrvbGipe2uBoCMrcQAvD_BwE&filter=LOCATION_STRING:Madhya%20Pradesh%7CUttar%20Pradesh%7CBihar&filter=VALUE:150000000%7C&filter=CATEGORY:Civil%20And%20Construction&sort=RELEVANCE:DESC&pageNumber=0&pageSize=10&tenderType=ACTIVE&tenderEntity=TENDER&year=2024&removeUnavailableTenderAmountCards=false&removeUnavailableEmdCards=false&&&&&&&&\n",
      "Fetching tenders from: https://bidassist.com/all-tenders/active/tender-page-10?utm_source=Google&utm_medium=cpc&utm_campaign=15355181231&utm_term=bidassist%20login&utm_content=Search&gad_source=1&gclid=CjwKCAjw4_K0BhBsEiwAfVVZ_wRLjXvEp74X0NCGn2Ndtx6AjP3CYPczP1YeiQ0cvXjNrvbGipe2uBoCMrcQAvD_BwE&filter=LOCATION_STRING:Madhya%20Pradesh%7CUttar%20Pradesh%7CBihar&filter=VALUE:150000000%7C&filter=CATEGORY:Civil%20And%20Construction&sort=RELEVANCE:DESC&pageNumber=0&pageSize=10&tenderType=ACTIVE&tenderEntity=TENDER&year=2024&removeUnavailableTenderAmountCards=false&removeUnavailableEmdCards=false&&&&&&&&&\n",
      "Fetching tenders from: https://bidassist.com/all-tenders/active/tender-page-11?utm_source=Google&utm_medium=cpc&utm_campaign=15355181231&utm_term=bidassist%20login&utm_content=Search&gad_source=1&gclid=CjwKCAjw4_K0BhBsEiwAfVVZ_wRLjXvEp74X0NCGn2Ndtx6AjP3CYPczP1YeiQ0cvXjNrvbGipe2uBoCMrcQAvD_BwE&filter=LOCATION_STRING:Madhya%20Pradesh%7CUttar%20Pradesh%7CBihar&filter=VALUE:150000000%7C&filter=CATEGORY:Civil%20And%20Construction&sort=RELEVANCE:DESC&pageNumber=0&pageSize=10&tenderType=ACTIVE&tenderEntity=TENDER&year=2024&removeUnavailableTenderAmountCards=false&removeUnavailableEmdCards=false&&&&&&&&&&\n",
      "Fetching tenders from: https://bidassist.com/all-tenders/active/tender-page-12?utm_source=Google&utm_medium=cpc&utm_campaign=15355181231&utm_term=bidassist%20login&utm_content=Search&gad_source=1&gclid=CjwKCAjw4_K0BhBsEiwAfVVZ_wRLjXvEp74X0NCGn2Ndtx6AjP3CYPczP1YeiQ0cvXjNrvbGipe2uBoCMrcQAvD_BwE&filter=LOCATION_STRING:Madhya%20Pradesh%7CUttar%20Pradesh%7CBihar&filter=VALUE:150000000%7C&filter=CATEGORY:Civil%20And%20Construction&sort=RELEVANCE:DESC&pageNumber=0&pageSize=10&tenderType=ACTIVE&tenderEntity=TENDER&year=2024&removeUnavailableTenderAmountCards=false&removeUnavailableEmdCards=false&&&&&&&&&&&\n",
      "Fetching tenders from: https://bidassist.com/all-tenders/active/tender-page-13?utm_source=Google&utm_medium=cpc&utm_campaign=15355181231&utm_term=bidassist%20login&utm_content=Search&gad_source=1&gclid=CjwKCAjw4_K0BhBsEiwAfVVZ_wRLjXvEp74X0NCGn2Ndtx6AjP3CYPczP1YeiQ0cvXjNrvbGipe2uBoCMrcQAvD_BwE&filter=LOCATION_STRING:Madhya%20Pradesh%7CUttar%20Pradesh%7CBihar&filter=VALUE:150000000%7C&filter=CATEGORY:Civil%20And%20Construction&sort=RELEVANCE:DESC&pageNumber=0&pageSize=10&tenderType=ACTIVE&tenderEntity=TENDER&year=2024&removeUnavailableTenderAmountCards=false&removeUnavailableEmdCards=false&&&&&&&&&&&&\n",
      "Fetching tenders from: https://bidassist.com/all-tenders/active/tender-page-14?utm_source=Google&utm_medium=cpc&utm_campaign=15355181231&utm_term=bidassist%20login&utm_content=Search&gad_source=1&gclid=CjwKCAjw4_K0BhBsEiwAfVVZ_wRLjXvEp74X0NCGn2Ndtx6AjP3CYPczP1YeiQ0cvXjNrvbGipe2uBoCMrcQAvD_BwE&filter=LOCATION_STRING:Madhya%20Pradesh%7CUttar%20Pradesh%7CBihar&filter=VALUE:150000000%7C&filter=CATEGORY:Civil%20And%20Construction&sort=RELEVANCE:DESC&pageNumber=0&pageSize=10&tenderType=ACTIVE&tenderEntity=TENDER&year=2024&removeUnavailableTenderAmountCards=false&removeUnavailableEmdCards=false&&&&&&&&&&&&&\n",
      "Fetching tenders from: https://bidassist.com/all-tenders/active/tender-page-15?utm_source=Google&utm_medium=cpc&utm_campaign=15355181231&utm_term=bidassist%20login&utm_content=Search&gad_source=1&gclid=CjwKCAjw4_K0BhBsEiwAfVVZ_wRLjXvEp74X0NCGn2Ndtx6AjP3CYPczP1YeiQ0cvXjNrvbGipe2uBoCMrcQAvD_BwE&filter=LOCATION_STRING:Madhya%20Pradesh%7CUttar%20Pradesh%7CBihar&filter=VALUE:150000000%7C&filter=CATEGORY:Civil%20And%20Construction&sort=RELEVANCE:DESC&pageNumber=0&pageSize=10&tenderType=ACTIVE&tenderEntity=TENDER&year=2024&removeUnavailableTenderAmountCards=false&removeUnavailableEmdCards=false&&&&&&&&&&&&&&\n",
      "Fetching tenders from: https://bidassist.com/all-tenders/active/tender-page-16?utm_source=Google&utm_medium=cpc&utm_campaign=15355181231&utm_term=bidassist%20login&utm_content=Search&gad_source=1&gclid=CjwKCAjw4_K0BhBsEiwAfVVZ_wRLjXvEp74X0NCGn2Ndtx6AjP3CYPczP1YeiQ0cvXjNrvbGipe2uBoCMrcQAvD_BwE&filter=LOCATION_STRING:Madhya%20Pradesh%7CUttar%20Pradesh%7CBihar&filter=VALUE:150000000%7C&filter=CATEGORY:Civil%20And%20Construction&sort=RELEVANCE:DESC&pageNumber=0&pageSize=10&tenderType=ACTIVE&tenderEntity=TENDER&year=2024&removeUnavailableTenderAmountCards=false&removeUnavailableEmdCards=false&&&&&&&&&&&&&&&\n",
      "Fetching tenders from: https://bidassist.com/all-tenders/active/tender-page-17?utm_source=Google&utm_medium=cpc&utm_campaign=15355181231&utm_term=bidassist%20login&utm_content=Search&gad_source=1&gclid=CjwKCAjw4_K0BhBsEiwAfVVZ_wRLjXvEp74X0NCGn2Ndtx6AjP3CYPczP1YeiQ0cvXjNrvbGipe2uBoCMrcQAvD_BwE&filter=LOCATION_STRING:Madhya%20Pradesh%7CUttar%20Pradesh%7CBihar&filter=VALUE:150000000%7C&filter=CATEGORY:Civil%20And%20Construction&sort=RELEVANCE:DESC&pageNumber=0&pageSize=10&tenderType=ACTIVE&tenderEntity=TENDER&year=2024&removeUnavailableTenderAmountCards=false&removeUnavailableEmdCards=false&&&&&&&&&&&&&&&&\n",
      "Fetching tenders from: https://bidassist.com/all-tenders/active/tender-page-18?utm_source=Google&utm_medium=cpc&utm_campaign=15355181231&utm_term=bidassist%20login&utm_content=Search&gad_source=1&gclid=CjwKCAjw4_K0BhBsEiwAfVVZ_wRLjXvEp74X0NCGn2Ndtx6AjP3CYPczP1YeiQ0cvXjNrvbGipe2uBoCMrcQAvD_BwE&filter=LOCATION_STRING:Madhya%20Pradesh%7CUttar%20Pradesh%7CBihar&filter=VALUE:150000000%7C&filter=CATEGORY:Civil%20And%20Construction&sort=RELEVANCE:DESC&pageNumber=0&pageSize=10&tenderType=ACTIVE&tenderEntity=TENDER&year=2024&removeUnavailableTenderAmountCards=false&removeUnavailableEmdCards=false&&&&&&&&&&&&&&&&&\n",
      "Fetching tenders from: https://bidassist.com/all-tenders/active/tender-page-19?utm_source=Google&utm_medium=cpc&utm_campaign=15355181231&utm_term=bidassist%20login&utm_content=Search&gad_source=1&gclid=CjwKCAjw4_K0BhBsEiwAfVVZ_wRLjXvEp74X0NCGn2Ndtx6AjP3CYPczP1YeiQ0cvXjNrvbGipe2uBoCMrcQAvD_BwE&filter=LOCATION_STRING:Madhya%20Pradesh%7CUttar%20Pradesh%7CBihar&filter=VALUE:150000000%7C&filter=CATEGORY:Civil%20And%20Construction&sort=RELEVANCE:DESC&pageNumber=0&pageSize=10&tenderType=ACTIVE&tenderEntity=TENDER&year=2024&removeUnavailableTenderAmountCards=false&removeUnavailableEmdCards=false&&&&&&&&&&&&&&&&&&\n",
      "Fetching tenders from: https://bidassist.com/all-tenders/active/tender-page-20?utm_source=Google&utm_medium=cpc&utm_campaign=15355181231&utm_term=bidassist%20login&utm_content=Search&gad_source=1&gclid=CjwKCAjw4_K0BhBsEiwAfVVZ_wRLjXvEp74X0NCGn2Ndtx6AjP3CYPczP1YeiQ0cvXjNrvbGipe2uBoCMrcQAvD_BwE&filter=LOCATION_STRING:Madhya%20Pradesh%7CUttar%20Pradesh%7CBihar&filter=VALUE:150000000%7C&filter=CATEGORY:Civil%20And%20Construction&sort=RELEVANCE:DESC&pageNumber=0&pageSize=10&tenderType=ACTIVE&tenderEntity=TENDER&year=2024&removeUnavailableTenderAmountCards=false&removeUnavailableEmdCards=false&&&&&&&&&&&&&&&&&&&\n",
      "Fetching tenders from: https://bidassist.com/all-tenders/active/tender-page-21?utm_source=Google&utm_medium=cpc&utm_campaign=15355181231&utm_term=bidassist%20login&utm_content=Search&gad_source=1&gclid=CjwKCAjw4_K0BhBsEiwAfVVZ_wRLjXvEp74X0NCGn2Ndtx6AjP3CYPczP1YeiQ0cvXjNrvbGipe2uBoCMrcQAvD_BwE&filter=LOCATION_STRING:Madhya%20Pradesh%7CUttar%20Pradesh%7CBihar&filter=VALUE:150000000%7C&filter=CATEGORY:Civil%20And%20Construction&sort=RELEVANCE:DESC&pageNumber=0&pageSize=10&tenderType=ACTIVE&tenderEntity=TENDER&year=2024&removeUnavailableTenderAmountCards=false&removeUnavailableEmdCards=false&&&&&&&&&&&&&&&&&&&&\n",
      "Fetching tenders from: https://bidassist.com/all-tenders/active/tender-page-22?utm_source=Google&utm_medium=cpc&utm_campaign=15355181231&utm_term=bidassist%20login&utm_content=Search&gad_source=1&gclid=CjwKCAjw4_K0BhBsEiwAfVVZ_wRLjXvEp74X0NCGn2Ndtx6AjP3CYPczP1YeiQ0cvXjNrvbGipe2uBoCMrcQAvD_BwE&filter=LOCATION_STRING:Madhya%20Pradesh%7CUttar%20Pradesh%7CBihar&filter=VALUE:150000000%7C&filter=CATEGORY:Civil%20And%20Construction&sort=RELEVANCE:DESC&pageNumber=0&pageSize=10&tenderType=ACTIVE&tenderEntity=TENDER&year=2024&removeUnavailableTenderAmountCards=false&removeUnavailableEmdCards=false&&&&&&&&&&&&&&&&&&&&&\n",
      "Fetching tenders from: https://bidassist.com/all-tenders/active/tender-page-23?utm_source=Google&utm_medium=cpc&utm_campaign=15355181231&utm_term=bidassist%20login&utm_content=Search&gad_source=1&gclid=CjwKCAjw4_K0BhBsEiwAfVVZ_wRLjXvEp74X0NCGn2Ndtx6AjP3CYPczP1YeiQ0cvXjNrvbGipe2uBoCMrcQAvD_BwE&filter=LOCATION_STRING:Madhya%20Pradesh%7CUttar%20Pradesh%7CBihar&filter=VALUE:150000000%7C&filter=CATEGORY:Civil%20And%20Construction&sort=RELEVANCE:DESC&pageNumber=0&pageSize=10&tenderType=ACTIVE&tenderEntity=TENDER&year=2024&removeUnavailableTenderAmountCards=false&removeUnavailableEmdCards=false&&&&&&&&&&&&&&&&&&&&&&\n",
      "Fetching tenders from: https://bidassist.com/all-tenders/active/tender-page-24?utm_source=Google&utm_medium=cpc&utm_campaign=15355181231&utm_term=bidassist%20login&utm_content=Search&gad_source=1&gclid=CjwKCAjw4_K0BhBsEiwAfVVZ_wRLjXvEp74X0NCGn2Ndtx6AjP3CYPczP1YeiQ0cvXjNrvbGipe2uBoCMrcQAvD_BwE&filter=LOCATION_STRING:Madhya%20Pradesh%7CUttar%20Pradesh%7CBihar&filter=VALUE:150000000%7C&filter=CATEGORY:Civil%20And%20Construction&sort=RELEVANCE:DESC&pageNumber=0&pageSize=10&tenderType=ACTIVE&tenderEntity=TENDER&year=2024&removeUnavailableTenderAmountCards=false&removeUnavailableEmdCards=false&&&&&&&&&&&&&&&&&&&&&&&\n",
      "Fetching tenders from: https://bidassist.com/all-tenders/active/tender-page-25?utm_source=Google&utm_medium=cpc&utm_campaign=15355181231&utm_term=bidassist%20login&utm_content=Search&gad_source=1&gclid=CjwKCAjw4_K0BhBsEiwAfVVZ_wRLjXvEp74X0NCGn2Ndtx6AjP3CYPczP1YeiQ0cvXjNrvbGipe2uBoCMrcQAvD_BwE&filter=LOCATION_STRING:Madhya%20Pradesh%7CUttar%20Pradesh%7CBihar&filter=VALUE:150000000%7C&filter=CATEGORY:Civil%20And%20Construction&sort=RELEVANCE:DESC&pageNumber=0&pageSize=10&tenderType=ACTIVE&tenderEntity=TENDER&year=2024&removeUnavailableTenderAmountCards=false&removeUnavailableEmdCards=false&&&&&&&&&&&&&&&&&&&&&&&&\n",
      "Fetching tenders from: https://bidassist.com/all-tenders/active/tender-page-26?utm_source=Google&utm_medium=cpc&utm_campaign=15355181231&utm_term=bidassist%20login&utm_content=Search&gad_source=1&gclid=CjwKCAjw4_K0BhBsEiwAfVVZ_wRLjXvEp74X0NCGn2Ndtx6AjP3CYPczP1YeiQ0cvXjNrvbGipe2uBoCMrcQAvD_BwE&filter=LOCATION_STRING:Madhya%20Pradesh%7CUttar%20Pradesh%7CBihar&filter=VALUE:150000000%7C&filter=CATEGORY:Civil%20And%20Construction&sort=RELEVANCE:DESC&pageNumber=0&pageSize=10&tenderType=ACTIVE&tenderEntity=TENDER&year=2024&removeUnavailableTenderAmountCards=false&removeUnavailableEmdCards=false&&&&&&&&&&&&&&&&&&&&&&&&&\n",
      "Fetching tenders from: https://bidassist.com/all-tenders/active/tender-page-27?utm_source=Google&utm_medium=cpc&utm_campaign=15355181231&utm_term=bidassist%20login&utm_content=Search&gad_source=1&gclid=CjwKCAjw4_K0BhBsEiwAfVVZ_wRLjXvEp74X0NCGn2Ndtx6AjP3CYPczP1YeiQ0cvXjNrvbGipe2uBoCMrcQAvD_BwE&filter=LOCATION_STRING:Madhya%20Pradesh%7CUttar%20Pradesh%7CBihar&filter=VALUE:150000000%7C&filter=CATEGORY:Civil%20And%20Construction&sort=RELEVANCE:DESC&pageNumber=0&pageSize=10&tenderType=ACTIVE&tenderEntity=TENDER&year=2024&removeUnavailableTenderAmountCards=false&removeUnavailableEmdCards=false&&&&&&&&&&&&&&&&&&&&&&&&&&\n",
      "Fetching tenders from: https://bidassist.com/all-tenders/active/tender-page-28?utm_source=Google&utm_medium=cpc&utm_campaign=15355181231&utm_term=bidassist%20login&utm_content=Search&gad_source=1&gclid=CjwKCAjw4_K0BhBsEiwAfVVZ_wRLjXvEp74X0NCGn2Ndtx6AjP3CYPczP1YeiQ0cvXjNrvbGipe2uBoCMrcQAvD_BwE&filter=LOCATION_STRING:Madhya%20Pradesh%7CUttar%20Pradesh%7CBihar&filter=VALUE:150000000%7C&filter=CATEGORY:Civil%20And%20Construction&sort=RELEVANCE:DESC&pageNumber=0&pageSize=10&tenderType=ACTIVE&tenderEntity=TENDER&year=2024&removeUnavailableTenderAmountCards=false&removeUnavailableEmdCards=false&&&&&&&&&&&&&&&&&&&&&&&&&&&\n",
      "Fetching tenders from: https://bidassist.com/all-tenders/active/tender-page-29?utm_source=Google&utm_medium=cpc&utm_campaign=15355181231&utm_term=bidassist%20login&utm_content=Search&gad_source=1&gclid=CjwKCAjw4_K0BhBsEiwAfVVZ_wRLjXvEp74X0NCGn2Ndtx6AjP3CYPczP1YeiQ0cvXjNrvbGipe2uBoCMrcQAvD_BwE&filter=LOCATION_STRING:Madhya%20Pradesh%7CUttar%20Pradesh%7CBihar&filter=VALUE:150000000%7C&filter=CATEGORY:Civil%20And%20Construction&sort=RELEVANCE:DESC&pageNumber=0&pageSize=10&tenderType=ACTIVE&tenderEntity=TENDER&year=2024&removeUnavailableTenderAmountCards=false&removeUnavailableEmdCards=false&&&&&&&&&&&&&&&&&&&&&&&&&&&&\n",
      "Fetching tenders from: https://bidassist.com/all-tenders/active/tender-page-30?utm_source=Google&utm_medium=cpc&utm_campaign=15355181231&utm_term=bidassist%20login&utm_content=Search&gad_source=1&gclid=CjwKCAjw4_K0BhBsEiwAfVVZ_wRLjXvEp74X0NCGn2Ndtx6AjP3CYPczP1YeiQ0cvXjNrvbGipe2uBoCMrcQAvD_BwE&filter=LOCATION_STRING:Madhya%20Pradesh%7CUttar%20Pradesh%7CBihar&filter=VALUE:150000000%7C&filter=CATEGORY:Civil%20And%20Construction&sort=RELEVANCE:DESC&pageNumber=0&pageSize=10&tenderType=ACTIVE&tenderEntity=TENDER&year=2024&removeUnavailableTenderAmountCards=false&removeUnavailableEmdCards=false&&&&&&&&&&&&&&&&&&&&&&&&&&&&&\n",
      "Fetching tenders from: https://bidassist.com/all-tenders/active/tender-page-31?utm_source=Google&utm_medium=cpc&utm_campaign=15355181231&utm_term=bidassist%20login&utm_content=Search&gad_source=1&gclid=CjwKCAjw4_K0BhBsEiwAfVVZ_wRLjXvEp74X0NCGn2Ndtx6AjP3CYPczP1YeiQ0cvXjNrvbGipe2uBoCMrcQAvD_BwE&filter=LOCATION_STRING:Madhya%20Pradesh%7CUttar%20Pradesh%7CBihar&filter=VALUE:150000000%7C&filter=CATEGORY:Civil%20And%20Construction&sort=RELEVANCE:DESC&pageNumber=0&pageSize=10&tenderType=ACTIVE&tenderEntity=TENDER&year=2024&removeUnavailableTenderAmountCards=false&removeUnavailableEmdCards=false&&&&&&&&&&&&&&&&&&&&&&&&&&&&&&\n",
      "Fetching tenders from: https://bidassist.com/all-tenders/active/tender-page-32?utm_source=Google&utm_medium=cpc&utm_campaign=15355181231&utm_term=bidassist%20login&utm_content=Search&gad_source=1&gclid=CjwKCAjw4_K0BhBsEiwAfVVZ_wRLjXvEp74X0NCGn2Ndtx6AjP3CYPczP1YeiQ0cvXjNrvbGipe2uBoCMrcQAvD_BwE&filter=LOCATION_STRING:Madhya%20Pradesh%7CUttar%20Pradesh%7CBihar&filter=VALUE:150000000%7C&filter=CATEGORY:Civil%20And%20Construction&sort=RELEVANCE:DESC&pageNumber=0&pageSize=10&tenderType=ACTIVE&tenderEntity=TENDER&year=2024&removeUnavailableTenderAmountCards=false&removeUnavailableEmdCards=false&&&&&&&&&&&&&&&&&&&&&&&&&&&&&&&\n",
      "Fetching tenders from: https://bidassist.com/all-tenders/active/tender-page-33?utm_source=Google&utm_medium=cpc&utm_campaign=15355181231&utm_term=bidassist%20login&utm_content=Search&gad_source=1&gclid=CjwKCAjw4_K0BhBsEiwAfVVZ_wRLjXvEp74X0NCGn2Ndtx6AjP3CYPczP1YeiQ0cvXjNrvbGipe2uBoCMrcQAvD_BwE&filter=LOCATION_STRING:Madhya%20Pradesh%7CUttar%20Pradesh%7CBihar&filter=VALUE:150000000%7C&filter=CATEGORY:Civil%20And%20Construction&sort=RELEVANCE:DESC&pageNumber=0&pageSize=10&tenderType=ACTIVE&tenderEntity=TENDER&year=2024&removeUnavailableTenderAmountCards=false&removeUnavailableEmdCards=false&&&&&&&&&&&&&&&&&&&&&&&&&&&&&&&&\n",
      "Fetching tenders from: https://bidassist.com/all-tenders/active/tender-page-34?utm_source=Google&utm_medium=cpc&utm_campaign=15355181231&utm_term=bidassist%20login&utm_content=Search&gad_source=1&gclid=CjwKCAjw4_K0BhBsEiwAfVVZ_wRLjXvEp74X0NCGn2Ndtx6AjP3CYPczP1YeiQ0cvXjNrvbGipe2uBoCMrcQAvD_BwE&filter=LOCATION_STRING:Madhya%20Pradesh%7CUttar%20Pradesh%7CBihar&filter=VALUE:150000000%7C&filter=CATEGORY:Civil%20And%20Construction&sort=RELEVANCE:DESC&pageNumber=0&pageSize=10&tenderType=ACTIVE&tenderEntity=TENDER&year=2024&removeUnavailableTenderAmountCards=false&removeUnavailableEmdCards=false&&&&&&&&&&&&&&&&&&&&&&&&&&&&&&&&&\n",
      "Fetching tenders from: https://bidassist.com/all-tenders/active/tender-page-35?utm_source=Google&utm_medium=cpc&utm_campaign=15355181231&utm_term=bidassist%20login&utm_content=Search&gad_source=1&gclid=CjwKCAjw4_K0BhBsEiwAfVVZ_wRLjXvEp74X0NCGn2Ndtx6AjP3CYPczP1YeiQ0cvXjNrvbGipe2uBoCMrcQAvD_BwE&filter=LOCATION_STRING:Madhya%20Pradesh%7CUttar%20Pradesh%7CBihar&filter=VALUE:150000000%7C&filter=CATEGORY:Civil%20And%20Construction&sort=RELEVANCE:DESC&pageNumber=0&pageSize=10&tenderType=ACTIVE&tenderEntity=TENDER&year=2024&removeUnavailableTenderAmountCards=false&removeUnavailableEmdCards=false&&&&&&&&&&&&&&&&&&&&&&&&&&&&&&&&&&\n",
      "Fetching tenders from: https://bidassist.com/all-tenders/active/tender-page-36?utm_source=Google&utm_medium=cpc&utm_campaign=15355181231&utm_term=bidassist%20login&utm_content=Search&gad_source=1&gclid=CjwKCAjw4_K0BhBsEiwAfVVZ_wRLjXvEp74X0NCGn2Ndtx6AjP3CYPczP1YeiQ0cvXjNrvbGipe2uBoCMrcQAvD_BwE&filter=LOCATION_STRING:Madhya%20Pradesh%7CUttar%20Pradesh%7CBihar&filter=VALUE:150000000%7C&filter=CATEGORY:Civil%20And%20Construction&sort=RELEVANCE:DESC&pageNumber=0&pageSize=10&tenderType=ACTIVE&tenderEntity=TENDER&year=2024&removeUnavailableTenderAmountCards=false&removeUnavailableEmdCards=false&&&&&&&&&&&&&&&&&&&&&&&&&&&&&&&&&&&\n",
      "Fetching tenders from: https://bidassist.com/all-tenders/active/tender-page-37?utm_source=Google&utm_medium=cpc&utm_campaign=15355181231&utm_term=bidassist%20login&utm_content=Search&gad_source=1&gclid=CjwKCAjw4_K0BhBsEiwAfVVZ_wRLjXvEp74X0NCGn2Ndtx6AjP3CYPczP1YeiQ0cvXjNrvbGipe2uBoCMrcQAvD_BwE&filter=LOCATION_STRING:Madhya%20Pradesh%7CUttar%20Pradesh%7CBihar&filter=VALUE:150000000%7C&filter=CATEGORY:Civil%20And%20Construction&sort=RELEVANCE:DESC&pageNumber=0&pageSize=10&tenderType=ACTIVE&tenderEntity=TENDER&year=2024&removeUnavailableTenderAmountCards=false&removeUnavailableEmdCards=false&&&&&&&&&&&&&&&&&&&&&&&&&&&&&&&&&&&&\n",
      "Fetching tenders from: https://bidassist.com/all-tenders/active/tender-page-38?utm_source=Google&utm_medium=cpc&utm_campaign=15355181231&utm_term=bidassist%20login&utm_content=Search&gad_source=1&gclid=CjwKCAjw4_K0BhBsEiwAfVVZ_wRLjXvEp74X0NCGn2Ndtx6AjP3CYPczP1YeiQ0cvXjNrvbGipe2uBoCMrcQAvD_BwE&filter=LOCATION_STRING:Madhya%20Pradesh%7CUttar%20Pradesh%7CBihar&filter=VALUE:150000000%7C&filter=CATEGORY:Civil%20And%20Construction&sort=RELEVANCE:DESC&pageNumber=0&pageSize=10&tenderType=ACTIVE&tenderEntity=TENDER&year=2024&removeUnavailableTenderAmountCards=false&removeUnavailableEmdCards=false&&&&&&&&&&&&&&&&&&&&&&&&&&&&&&&&&&&&&\n",
      "Fetching tenders from: https://bidassist.com/all-tenders/active/tender-page-39?utm_source=Google&utm_medium=cpc&utm_campaign=15355181231&utm_term=bidassist%20login&utm_content=Search&gad_source=1&gclid=CjwKCAjw4_K0BhBsEiwAfVVZ_wRLjXvEp74X0NCGn2Ndtx6AjP3CYPczP1YeiQ0cvXjNrvbGipe2uBoCMrcQAvD_BwE&filter=LOCATION_STRING:Madhya%20Pradesh%7CUttar%20Pradesh%7CBihar&filter=VALUE:150000000%7C&filter=CATEGORY:Civil%20And%20Construction&sort=RELEVANCE:DESC&pageNumber=0&pageSize=10&tenderType=ACTIVE&tenderEntity=TENDER&year=2024&removeUnavailableTenderAmountCards=false&removeUnavailableEmdCards=false&&&&&&&&&&&&&&&&&&&&&&&&&&&&&&&&&&&&&&\n",
      "Fetching tenders from: https://bidassist.com/all-tenders/active/tender-page-40?utm_source=Google&utm_medium=cpc&utm_campaign=15355181231&utm_term=bidassist%20login&utm_content=Search&gad_source=1&gclid=CjwKCAjw4_K0BhBsEiwAfVVZ_wRLjXvEp74X0NCGn2Ndtx6AjP3CYPczP1YeiQ0cvXjNrvbGipe2uBoCMrcQAvD_BwE&filter=LOCATION_STRING:Madhya%20Pradesh%7CUttar%20Pradesh%7CBihar&filter=VALUE:150000000%7C&filter=CATEGORY:Civil%20And%20Construction&sort=RELEVANCE:DESC&pageNumber=0&pageSize=10&tenderType=ACTIVE&tenderEntity=TENDER&year=2024&removeUnavailableTenderAmountCards=false&removeUnavailableEmdCards=false&&&&&&&&&&&&&&&&&&&&&&&&&&&&&&&&&&&&&&&\n",
      "Fetching tenders from: https://bidassist.com/all-tenders/active/tender-page-41?utm_source=Google&utm_medium=cpc&utm_campaign=15355181231&utm_term=bidassist%20login&utm_content=Search&gad_source=1&gclid=CjwKCAjw4_K0BhBsEiwAfVVZ_wRLjXvEp74X0NCGn2Ndtx6AjP3CYPczP1YeiQ0cvXjNrvbGipe2uBoCMrcQAvD_BwE&filter=LOCATION_STRING:Madhya%20Pradesh%7CUttar%20Pradesh%7CBihar&filter=VALUE:150000000%7C&filter=CATEGORY:Civil%20And%20Construction&sort=RELEVANCE:DESC&pageNumber=0&pageSize=10&tenderType=ACTIVE&tenderEntity=TENDER&year=2024&removeUnavailableTenderAmountCards=false&removeUnavailableEmdCards=false&&&&&&&&&&&&&&&&&&&&&&&&&&&&&&&&&&&&&&&&\n",
      "Fetching tenders from: https://bidassist.com/all-tenders/active/tender-page-42?utm_source=Google&utm_medium=cpc&utm_campaign=15355181231&utm_term=bidassist%20login&utm_content=Search&gad_source=1&gclid=CjwKCAjw4_K0BhBsEiwAfVVZ_wRLjXvEp74X0NCGn2Ndtx6AjP3CYPczP1YeiQ0cvXjNrvbGipe2uBoCMrcQAvD_BwE&filter=LOCATION_STRING:Madhya%20Pradesh%7CUttar%20Pradesh%7CBihar&filter=VALUE:150000000%7C&filter=CATEGORY:Civil%20And%20Construction&sort=RELEVANCE:DESC&pageNumber=0&pageSize=10&tenderType=ACTIVE&tenderEntity=TENDER&year=2024&removeUnavailableTenderAmountCards=false&removeUnavailableEmdCards=false&&&&&&&&&&&&&&&&&&&&&&&&&&&&&&&&&&&&&&&&&\n",
      "Fetching tenders from: https://bidassist.com/all-tenders/active/tender-page-43?utm_source=Google&utm_medium=cpc&utm_campaign=15355181231&utm_term=bidassist%20login&utm_content=Search&gad_source=1&gclid=CjwKCAjw4_K0BhBsEiwAfVVZ_wRLjXvEp74X0NCGn2Ndtx6AjP3CYPczP1YeiQ0cvXjNrvbGipe2uBoCMrcQAvD_BwE&filter=LOCATION_STRING:Madhya%20Pradesh%7CUttar%20Pradesh%7CBihar&filter=VALUE:150000000%7C&filter=CATEGORY:Civil%20And%20Construction&sort=RELEVANCE:DESC&pageNumber=0&pageSize=10&tenderType=ACTIVE&tenderEntity=TENDER&year=2024&removeUnavailableTenderAmountCards=false&removeUnavailableEmdCards=false&&&&&&&&&&&&&&&&&&&&&&&&&&&&&&&&&&&&&&&&&&\n"
     ]
    }
   ],
   "source": [
    "import requests\n",
    "from bs4 import BeautifulSoup\n",
    "import pandas as pd\n",
    "\n",
    "# Initial page URL\n",
    "url = \"https://bidassist.com/all-tenders/active?utm_source=Google&utm_medium=cpc&utm_campaign=15355181231&utm_term=bidassist%20login&utm_content=Search&gad_source=1&gclid=CjwKCAjw4_K0BhBsEiwAfVVZ_wRLjXvEp74X0NCGn2Ndtx6AjP3CYPczP1YeiQ0cvXjNrvbGipe2uBoCMrcQAvD_BwE&filter=LOCATION_STRING:Madhya%20Pradesh%7CUttar%20Pradesh%7CBihar&filter=VALUE:150000000%7C&filter=CATEGORY:Civil%20And%20Construction&sort=RELEVANCE:DESC&pageNumber=0&pageSize=10&tenderType=ACTIVE&tenderEntity=TENDER&year=2024&removeUnavailableTenderAmountCards=false&removeUnavailableEmdCards=false\"\n",
    "\n",
    "# Function to get tender names, locations, closing dates, and amounts from a single page\n",
    "def get_tenders_info(soup):\n",
    "    tenders = []\n",
    "    \n",
    "    card_elements = soup.find_all('div', class_='block card clearfix')\n",
    "    \n",
    "    for card in card_elements:\n",
    "        tender_element = card.find('a', class_=\"anchor-wrap m-t-0 more-width\")\n",
    "        location_element = card.find('span', class_=\"truncate relative tender-locations\").find('span')\n",
    "        date_element = card.find('div', class_='date-wrap').find('span', class_=['truncate textHeading', 'truncate textHeading text-light-orange'])\n",
    "        amount_element = card.find('div', class_='semibold date-wrap amount').find('span', class_='truncate textHeading')\n",
    "        \n",
    "        tender_name = tender_element.get_text(strip=True) if tender_element else \"N/A\"\n",
    "        location = location_element.get_text(strip=True) if location_element else \"N/A\"\n",
    "        closing_date = date_element.get_text(strip=True) if date_element else \"N/A\"\n",
    "        tender_amount = amount_element.get_text(strip=True) if amount_element else \"N/A\"\n",
    "        \n",
    "        tenders.append((tender_name, location, closing_date, tender_amount))\n",
    "    \n",
    "    return tenders\n",
    "\n",
    "# Function to get the next page URL\n",
    "def get_next_page_url(soup):\n",
    "    next_page_element = soup.find('a', rel='next')\n",
    "    if next_page_element and 'href' in next_page_element.attrs:\n",
    "        return next_page_element['href']\n",
    "    return None\n",
    "\n",
    "# List to store all tenders information\n",
    "all_tenders_info = []\n",
    "\n",
    "# Loop to navigate through all pages\n",
    "while url:\n",
    "    print(f\"Fetching tenders from: {url}\")\n",
    "    response = requests.get(url)\n",
    "    soup = BeautifulSoup(response.content, 'html.parser')\n",
    "    \n",
    "    # Get tenders info from the current page\n",
    "    tenders_info = get_tenders_info(soup)\n",
    "    all_tenders_info.extend(tenders_info)\n",
    "    \n",
    "    # Get the URL for the next page\n",
    "    url = get_next_page_url(soup)\n",
    "\n",
    "# Convert the list of tenders to a DataFrame\n",
    "df = pd.DataFrame(all_tenders_info, columns=[\"Tender Name\", \"Location\", \"Closing Date\", \"Tender Amount\"])\n",
    "\n",
    "# Save the DataFrame to an Excel file\n",
    "excel_file = 'C:/Users/DELL/Downloads/BidAssist Tender details.xlsx'\n",
    "df.to_excel(excel_file, index=False)\n",
    "\n",
    "print(f\"Data has been successfully written to {excel_file}\")\n"
   ]
  }
 ],
 "metadata": {
  "kernelspec": {
   "display_name": "Python 3 (ipykernel)",
   "language": "python",
   "name": "python3"
  },
  "language_info": {
   "codemirror_mode": {
    "name": "ipython",
    "version": 3
   },
   "file_extension": ".py",
   "mimetype": "text/x-python",
   "name": "python",
   "nbconvert_exporter": "python",
   "pygments_lexer": "ipython3",
   "version": "3.12.4"
  }
 },
 "nbformat": 4,
 "nbformat_minor": 5
}
